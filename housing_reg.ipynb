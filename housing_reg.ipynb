{
 "cells": [
  {
   "cell_type": "code",
   "execution_count": 1,
   "metadata": {
    "collapsed": true
   },
   "outputs": [],
   "source": [
    "import pickle\n",
    "import numpy as np\n",
    "import pandas as pd \n",
    "from time import time"
   ]
  },
  {
   "cell_type": "code",
   "execution_count": 2,
   "metadata": {
    "collapsed": true
   },
   "outputs": [],
   "source": [
    "from sklearn.feature_selection import SelectPercentile, f_classif\n",
    "from sklearn.preprocessing import LabelEncoder\n",
    "from sklearn.model_selection import train_test_split\n",
    "import matplotlib.pyplot as plt"
   ]
  },
  {
   "cell_type": "code",
   "execution_count": 8,
   "metadata": {
    "collapsed": true
   },
   "outputs": [],
   "source": [
    "data_set=pd.read_csv('kc_house_data.csv')"
   ]
  },
  {
   "cell_type": "code",
   "execution_count": 9,
   "metadata": {
    "collapsed": true
   },
   "outputs": [],
   "source": [
    "\n",
    "data_set.drop(['id', 'date'], axis = 1, inplace = True)\n"
   ]
  },
  {
   "cell_type": "code",
   "execution_count": 10,
   "metadata": {},
   "outputs": [],
   "source": [
    "data_set['basement_present'] = data_set['sqft_basement'].apply(lambda x: 1 if x > 0 else 0) \n",
    "data_set['renovated'] = data_set['yr_renovated'].apply(lambda x: 1 if x > 0 else 0) \n"
   ]
  },
  {
   "cell_type": "code",
   "execution_count": 18,
   "metadata": {},
   "outputs": [
    {
     "name": "stdout",
     "output_type": "stream",
     "text": [
      "Dimension of data_set: (21613, 21)\n",
      "Dimension of X_train: (15129, 20)\n",
      "Dimension of X_test: (6484, 20)\n"
     ]
    }
   ],
   "source": [
    "#data_set.head()\n",
    "print (\"Dimension of data_set:\",data_set.shape)\n",
    "Y=data_set.price\n",
    "X=data_set.drop('price',axis=1)\n",
    "#X=data_set.drop('date',axis=1)\n",
    "X_train, X_test, Y_train, Y_test = train_test_split(X, Y,test_size=0.30)\n",
    "#print (\"\\nX_train:\\n\")\n",
    "#print (X_train.head())\n",
    "print (\"Dimension of X_train:\",X_train.shape)\n",
    "#print (\"\\nX_test:\\n\")\n",
    "#print (X_test.head())\n",
    "print (\"Dimension of X_test:\",X_test.shape)\n"
   ]
  },
  {
   "cell_type": "code",
   "execution_count": 20,
   "metadata": {},
   "outputs": [
    {
     "name": "stdout",
     "output_type": "stream",
     "text": [
      "Time: 0.01561999 s\n",
      "Accuracy: 0.705\n"
     ]
    }
   ],
   "source": [
    "from sklearn import linear_model\n",
    "from time import time\n",
    "from sklearn.metrics import r2_score\n",
    "reg=linear_model.LinearRegression()\n",
    "t0=time()\n",
    "reg.fit(X_train,Y_train)\n",
    "#reg.fit(X_train,X_train)\n",
    "print (\"Time:\", round(time()-t0,8),\"s\")\n",
    "pred=reg.predict(X_test)\n",
    "print (\"Accuracy:\",round(r2_score(Y_test,pred),3))"
   ]
  },
  {
   "cell_type": "code",
   "execution_count": 13,
   "metadata": {
    "collapsed": true
   },
   "outputs": [],
   "source": [
    "#from sklearn.metrics import mean_squared_error\n",
    "#pred=reg.predict(X_test)\n",
    "#RMSE = mean_squared_error(Y_test,reg.predict(X_test))**0.5\n",
    "#RMSE = mean_squared_error(Y_test.as_matrix(columns = ['price']),reg.predict(Y_test.as_matrix(columns = ['sqft_living'])))**0.5"
   ]
  },
  {
   "cell_type": "code",
   "execution_count": 21,
   "metadata": {},
   "outputs": [
    {
     "name": "stdout",
     "output_type": "stream",
     "text": [
      "[411061.72177166 336972.15988632 394945.22928651 ... 362455.46674829\n",
      " 599948.99142439 539682.68377605]\n"
     ]
    }
   ],
   "source": [
    "pred=reg.predict(X_test)\n",
    "print(pred)"
   ]
  },
  {
   "cell_type": "code",
   "execution_count": 22,
   "metadata": {},
   "outputs": [
    {
     "data": {
      "image/png": "[encoded data removed]",
      "text/plain": [
       "<matplotlib.figure.Figure at 0x274835f1908>"
      ]
     },
     "metadata": {},
     "output_type": "display_data"
    }
   ],
   "source": [
    "from matplotlib import pyplot as plt\n",
    "plt.scatter(X_test['sqft_living'],Y_test,c='b',marker='o')\n",
    "\n",
    "plt.show()\n"
   ]
  },
  {
   "cell_type": "code",
   "execution_count": null,
   "metadata": {
    "collapsed": true
   },
   "outputs": [],
   "source": []
  }
 ],
 "metadata": {
  "kernelspec": {
   "display_name": "Python 3",
   "language": "python",
   "name": "python3"
  },
  "language_info": {
   "codemirror_mode": {
    "name": "ipython",
    "version": 3
   },
   "file_extension": ".py",
   "mimetype": "text/x-python",
   "name": "python",
   "nbconvert_exporter": "python",
   "pygments_lexer": "ipython3",
   "version": "3.6.2"
  }
 },
 "nbformat": 4,
 "nbformat_minor": 2
}
